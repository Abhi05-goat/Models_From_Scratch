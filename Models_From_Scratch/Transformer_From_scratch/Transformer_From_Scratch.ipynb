{
 "cells": [
  {
   "cell_type": "code",
   "execution_count": 8,
   "id": "c526f0fc-b450-4a8a-b222-27aa20426c26",
   "metadata": {},
   "outputs": [],
   "source": [
    "import torch\n",
    "from torch import nn"
   ]
  },
  {
   "cell_type": "code",
   "execution_count": 9,
   "id": "b47c31c4-ccca-4dbb-9b5c-895fab8041f0",
   "metadata": {},
   "outputs": [
    {
     "name": "stdout",
     "output_type": "stream",
     "text": [
      "cuda\n"
     ]
    }
   ],
   "source": [
    "device = \"cuda\" if torch.cuda.is_available() else \"cpu\"\n",
    "print(device)"
   ]
  },
  {
   "cell_type": "code",
   "execution_count": 12,
   "id": "4b0f6f83-da39-42aa-8a94-d624aae12ea6",
   "metadata": {},
   "outputs": [],
   "source": [
    "class SelfAttention(nn.Module):\n",
    "    def __init__(self, embed_size, heads):\n",
    "        super().__init__()\n",
    "        self.embed_size = embed_size\n",
    "        self.heads = heads\n",
    "        self.head_dim = embed_size // heads #Model embedding size divided by the number of attention heads\n",
    "\n",
    "        assert(heads == embed_size*head_dim) #Checks for the number of heads to be the encoding size times the dimension of each attention head\n",
    "        self.values = nn.Linear(in_features = embed_size, out_features = embed_size, bias = False) #Value matrix output\n",
    "        self.keys = nn.Linear(in_features = embed_size, out_features = embed_size, bias = False) #Key matrix output, trainable matrix for each\n",
    "        self.queries = nn.Linear(in_features = embed_size, out_features = embed_size, bias = False) #Value matrix output\n",
    "        self.fc_out = nn.Linear(in_features = embed_size, out_features = embed_size, bias = False) #Wo matrix that multiples the concatentation of all heads\n",
    "\n",
    "    def forward(self, values, keys, query, mask=None):\n",
    "        #query = (N -> training samples in a batch, query_len -> number of tokens in the query, embed_size -> embedding size of tokens)\n",
    "        N = query.shape[0] #Number of training samples\n",
    "        \n",
    "        value_len, key_len, query_len = values.shape[1], keys.shape[1], query.shape[1]\n",
    "\n",
    "        values = self.values(values) #(N, value_len, embed_size)\n",
    "        keys = self.keys(keys)\n",
    "        queries = self.queries(query)\n",
    "\n",
    "        #Note: embed_size = head_dim * heads\n",
    "        values = values.reshape(N, value_len, self.heads, self.head_dim)\n",
    "        queries = queries.reshape(N, query_len, self.heads, self.head_dim)\n",
    "        keys = keys.reshape(N, key_len, self.heads, self.head_dim)\n",
    "\n",
    "        # Queries, Keys's dimensions = (N,N_tokens, d_k)\n",
    "        #Need einsum to generalize multiplication of query and key vectors\n",
    "        #nqhd: n_token, ,query_len, num_heads, head_dim\n",
    "        #nkhd: key_len != query_len always\n",
    "        #Resulting einsum: nhqk -> How much each key affects query\n",
    "\n",
    "        attn_scores = np.einsum(\"nqhd,nkhd->nhqk\",[queries,keys])\n",
    "\n",
    "        #Handling batches: Truncate longer setences greater than threshold, Pad shorter sentences\n",
    "        #Masked tokens: Make the softmax probability zero: Store them as a really large negative floating point number\n",
    "\n",
    "        if mask is not None:\n",
    "            attn_scores = attn_scores.masked_fill(masked == 0, float(1e-20))\n",
    "\n",
    "        #Scale and normalize attention score\n",
    "        attention = torch.softmax(attn_scores/(self.head_dim ** (0.5)),dim = 3) #dim = 3 -> k in nhqk attention scores dimensions indexed from 0\n",
    "\n",
    "        #Einsum with attention and values\n",
    "        #Note: key_len = value_len: Defined across the same set of tokens (key_space and value_space)\n",
    "        out = torch.einsum(\"nhql,nlhd->nqhd\",[attention,values]).reshape(N,query_len,self.heads * self.head_dim)\n",
    "\n",
    "        out = self.fc_out(out)\n",
    "\n",
    "        return out"
   ]
  },
  {
   "cell_type": "code",
   "execution_count": null,
   "id": "0d1c55a1-7878-4c15-9785-45f79b25b16c",
   "metadata": {},
   "outputs": [],
   "source": [
    "class TransformerBlock(nn.Module):\n",
    "    def __init__(self, embed_size, dropout, forward_expansion):\n",
    "        super().__init__()\n",
    "        self.attention = SelfAttention(embed_size,heads)\n",
    "        self.norm1 = nn.LayerNorm(embed_size)\n",
    "        self.norm2 = nn.LayerNorm(embed_size)\n",
    "\n",
    "        #Up-project it to forward_expansion * embed_size and then down-project it to embed_size\n",
    "        self.feed_forward = nn.Sequential(\n",
    "            nn.Linear(in_features = embed_size, out_features = forward_expansion * embed_size)\n",
    "            nn.ReLU(),\n",
    "            nn.Linear(in_features = forward_expansion * embed_size, out_features = embed_size)\n",
    "        )\n",
    "\n",
    "        self.dropout = nn.Dropout(dropout) #Regularization, doesnt overfit during training\n",
    "\n",
    "    def forward(self,value,key,query,mask):\n",
    "        X = self.dropout(self.norm1(attention + query))  # Add input query to attention then normalize the output\n",
    "        forward = self.feed_forward(X)\n",
    "        out = self.dropout(self.norm2(forward + X))\n",
    "        return out"
   ]
  },
  {
   "cell_type": "code",
   "execution_count": null,
   "id": "5ece0101-8ef9-4fe8-992e-f18b6bc0d767",
   "metadata": {},
   "outputs": [],
   "source": [
    "class Encoder(nn.Module):\n",
    "    def __init__(self, src_vocab_size,"
   ]
  }
 ],
 "metadata": {
  "kernelspec": {
   "display_name": "Python 3 (ipykernel)",
   "language": "python",
   "name": "python3"
  },
  "language_info": {
   "codemirror_mode": {
    "name": "ipython",
    "version": 3
   },
   "file_extension": ".py",
   "mimetype": "text/x-python",
   "name": "python",
   "nbconvert_exporter": "python",
   "pygments_lexer": "ipython3",
   "version": "3.12.7"
  }
 },
 "nbformat": 4,
 "nbformat_minor": 5
}
